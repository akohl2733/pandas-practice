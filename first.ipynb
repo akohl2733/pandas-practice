{
 "cells": [
  {
   "cell_type": "code",
   "execution_count": 7,
   "id": "fe92d3fe-b7e5-4e70-ade3-0bc754dc42f6",
   "metadata": {},
   "outputs": [],
   "source": [
    "import pandas as pd\n",
    "import numpy as np"
   ]
  },
  {
   "cell_type": "code",
   "execution_count": 12,
   "id": "c9a81ca7-b991-4659-9d2b-3be12a629cfa",
   "metadata": {},
   "outputs": [],
   "source": [
    "csv_path = \"./week_1_2025.csv\"\n",
    "df = pd.read_csv(csv_path)\n",
    "s = pd.Series([1, 2, np.nan, 4, 5])\n"
   ]
  },
  {
   "cell_type": "code",
   "execution_count": 13,
   "id": "083628cd-ff90-4d6d-b7a9-063f2964ea11",
   "metadata": {},
   "outputs": [
    {
     "data": {
      "text/plain": [
       "name                Daniel Jones (IND)\n",
       "week                                 1\n",
       "year                              2025\n",
       "pass_yards                         272\n",
       "pass_tds                             1\n",
       "rush_attempts                        7\n",
       "rush_yards                          26\n",
       "rush_tds                             2\n",
       "targets                              0\n",
       "receptions                           0\n",
       "receiving_yards                      0\n",
       "receiving_tds                        0\n",
       "fumbles                              0\n",
       "interceptions                      0.0\n",
       "fantasy_points                    29.5\n",
       "game_played                          1\n",
       "rostered_percent                58.50%\n",
       "Name: 1, dtype: object"
      ]
     },
     "execution_count": 13,
     "metadata": {},
     "output_type": "execute_result"
    }
   ],
   "source": [
    "df.iloc[1]"
   ]
  },
  {
   "cell_type": "code",
   "execution_count": 25,
   "id": "271d8cdd-7ef4-4c60-8b15-cf862a26cfec",
   "metadata": {},
   "outputs": [
    {
     "data": {
      "text/plain": [
       "A          float64\n",
       "B    datetime64[s]\n",
       "C          float32\n",
       "D            int32\n",
       "E         category\n",
       "F           object\n",
       "dtype: object"
      ]
     },
     "execution_count": 25,
     "metadata": {},
     "output_type": "execute_result"
    }
   ],
   "source": [
    "df2 = pd.DataFrame(\n",
    "    {\n",
    "        \"A\": 1.0,\n",
    "        \"B\": pd.Timestamp(\"20130102\"),\n",
    "        \"C\": pd.Series(1, index=list(range(4)), dtype=\"float32\"),\n",
    "        \"D\": np.array([3] * 4, dtype=\"int32\"),\n",
    "        \"E\": pd.Categorical([\"test\", \"train\", \"test\", \"train\"]),\n",
    "        \"F\": \"foo\",\n",
    "    }\n",
    ")\n",
    "df2.dtypes"
   ]
  },
  {
   "cell_type": "code",
   "execution_count": 60,
   "id": "01eb96fe-2fc3-4e75-b63b-85d819404aaf",
   "metadata": {},
   "outputs": [
    {
     "name": "stdout",
     "output_type": "stream",
     "text": [
      "1          Daniel Jones (IND)\n",
      "2         Justin Fields (NYJ)\n",
      "3         Lamar Jackson (BAL)\n",
      "4        Justin Herbert (LAC)\n",
      "5     Patrick Mahomes II (KC)\n",
      "6         Aaron Rodgers (PIT)\n",
      "7           Jalen Hurts (PHI)\n",
      "8        Caleb Williams (CHI)\n",
      "9     Michael Penix Jr. (ATL)\n",
      "10        J.J. McCarthy (MIN)\n",
      "Name: name, dtype: object -- 0     38.8\n",
      "1     29.5\n",
      "2     29.5\n",
      "3     29.4\n",
      "4     27.9\n",
      "5     26.0\n",
      "6     25.7\n",
      "7     24.3\n",
      "8     24.2\n",
      "9     24.0\n",
      "10    23.2\n",
      "Name: fantasy_points, dtype: float64\n"
     ]
    }
   ],
   "source": [
    "print(f\"{df.loc[1:10][\"name\"]} -- {df.loc[0:10][\"fantasy_points\"]}\")"
   ]
  },
  {
   "cell_type": "code",
   "execution_count": null,
   "id": "89d6987e-c230-4594-965c-5f3a44daf9c3",
   "metadata": {},
   "outputs": [],
   "source": []
  }
 ],
 "metadata": {
  "kernelspec": {
   "display_name": "Python 3 (ipykernel)",
   "language": "python",
   "name": "python3"
  },
  "language_info": {
   "codemirror_mode": {
    "name": "ipython",
    "version": 3
   },
   "file_extension": ".py",
   "mimetype": "text/x-python",
   "name": "python",
   "nbconvert_exporter": "python",
   "pygments_lexer": "ipython3",
   "version": "3.12.3"
  }
 },
 "nbformat": 4,
 "nbformat_minor": 5
}
